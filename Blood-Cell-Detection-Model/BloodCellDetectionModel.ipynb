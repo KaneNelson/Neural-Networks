{
  "cells": [
    {
      "cell_type": "markdown",
      "id": "9730743d",
      "metadata": {
        "id": "9730743d"
      },
      "source": [
        "# Object Detection Project (WIP)"
      ]
    },
    {
      "cell_type": "markdown",
      "id": "5ce91827",
      "metadata": {
        "id": "5ce91827"
      },
      "source": [
        "dataset:  https://github.com/Shenggan/BCCD_Dataset"
      ]
    },
    {
      "cell_type": "markdown",
      "id": "10dd79ed",
      "metadata": {
        "id": "10dd79ed"
      },
      "source": [
        "The purpose of this project is to train a RCNN that detects different\n",
        "blood cell types in an image and create a bounding box around\n",
        "the detected objects."
      ]
    },
    {
      "cell_type": "code",
      "execution_count": null,
      "id": "9fbefa08",
      "metadata": {
        "id": "9fbefa08"
      },
      "outputs": [],
      "source": [
        "import numpy as np\n",
        "import os\n",
        "#import tensorflow as tf\n",
        "import cv2\n",
        "import pandas as pd\n",
        "from sklearn import preprocessing\n",
        "import matplotlib.pyplot as plt\n"
      ]
    },
    {
      "cell_type": "code",
      "execution_count": null,
      "id": "fe255b8f",
      "metadata": {
        "scrolled": true,
        "id": "fe255b8f"
      },
      "outputs": [],
      "source": [
        "import torch\n",
        "import torchvision\n",
        "from torchvision import transforms as torchtrans  \n",
        "from torchvision.models.detection.faster_rcnn import FastRCNNPredictor"
      ]
    },
    {
      "cell_type": "code",
      "source": [
        "!git clone https://github.com/Shenggan/BCCD_Dataset.git\n",
        "\n",
        "!git clone https://github.com/pytorch/vision.git\n",
        "%cd vision\n",
        "!git checkout v0.3.0\n",
        "%cd ..\n",
        "!cp vision/references/detection/utils.py ./\n",
        "!cp vision/references/detection/transforms.py ./\n",
        "!cp vision/references/detection/coco_eval.py ./\n",
        "!cp vision/references/detection/engine.py ./\n",
        "!cp vision/references/detection/coco_utils.py ./"
      ],
      "metadata": {
        "colab": {
          "base_uri": "https://localhost:8080/"
        },
        "id": "QGwFhhrR0yHt",
        "outputId": "8aab97ca-8745-4aa2-bb14-09c1c068e7a3"
      },
      "id": "QGwFhhrR0yHt",
      "execution_count": null,
      "outputs": [
        {
          "output_type": "stream",
          "name": "stdout",
          "text": [
            "fatal: destination path 'BCCD_Dataset' already exists and is not an empty directory.\n",
            "fatal: destination path 'vision' already exists and is not an empty directory.\n",
            "/content/vision\n",
            "HEAD is now at be376084d version check against PyTorch's CUDA version\n",
            "/content\n"
          ]
        }
      ]
    },
    {
      "cell_type": "markdown",
      "id": "4e4caa67",
      "metadata": {
        "id": "4e4caa67"
      },
      "source": [
        "#### Read data"
      ]
    },
    {
      "cell_type": "code",
      "execution_count": null,
      "id": "f3d68a82",
      "metadata": {
        "colab": {
          "base_uri": "https://localhost:8080/"
        },
        "id": "f3d68a82",
        "outputId": "2b3a6615-9566-49ba-be93-aa200d088d89"
      },
      "outputs": [
        {
          "output_type": "stream",
          "name": "stdout",
          "text": [
            "                  filename  cell_type  xmin  xmax  ymin  ymax\n",
            "0     BloodImage_00000.jpg        WBC   260   491   177   376\n",
            "1     BloodImage_00000.jpg        RBC    78   184   336   435\n",
            "2     BloodImage_00000.jpg        RBC    63   169   237   336\n",
            "3     BloodImage_00000.jpg        RBC   214   320   362   461\n",
            "4     BloodImage_00000.jpg        RBC   414   506   352   445\n",
            "...                    ...        ...   ...   ...   ...   ...\n",
            "4883  BloodImage_00410.jpg  Platelets   239   291   275   321\n",
            "4884  BloodImage_00410.jpg  Platelets   121   189   260   320\n",
            "4885  BloodImage_00410.jpg  Platelets    57   104   119   167\n",
            "4886  BloodImage_00410.jpg  Platelets     1    29   286   327\n",
            "4887  BloodImage_00410.jpg        WBC   367   611   166   394\n",
            "\n",
            "[4888 rows x 6 columns]\n"
          ]
        }
      ],
      "source": [
        "df = pd.read_csv('/content/BCCD_Dataset/test.csv')\n",
        "print(df)"
      ]
    },
    {
      "cell_type": "markdown",
      "id": "ef0b353a",
      "metadata": {
        "id": "ef0b353a"
      },
      "source": [
        "#### Data Preprocessing"
      ]
    },
    {
      "cell_type": "code",
      "execution_count": null,
      "id": "ab2e886b",
      "metadata": {
        "id": "ab2e886b"
      },
      "outputs": [],
      "source": [
        "class_names = [_, 'Platelets', 'RBC', 'WBC']"
      ]
    },
    {
      "cell_type": "code",
      "execution_count": null,
      "id": "eb60a907",
      "metadata": {
        "id": "eb60a907"
      },
      "outputs": [],
      "source": [
        "# Numerically encode data labels\n",
        "le = preprocessing.LabelEncoder()\n",
        "le.fit(class_names)\n",
        "df['cell_type'] = le.transform(df['cell_type'])"
      ]
    },
    {
      "cell_type": "code",
      "execution_count": null,
      "id": "f4f5724d",
      "metadata": {
        "id": "f4f5724d"
      },
      "outputs": [],
      "source": [
        "# Normalize bounding box values\n",
        "imgWidth = 640\n",
        "imgHeight = 480\n",
        "df['xmin'] /= imgWidth\n",
        "df['xmax'] /= imgWidth\n",
        "df['ymin'] /= imgHeight\n",
        "df['ymax'] /= imgHeight"
      ]
    },
    {
      "cell_type": "code",
      "execution_count": null,
      "id": "22466854",
      "metadata": {
        "colab": {
          "base_uri": "https://localhost:8080/"
        },
        "id": "22466854",
        "outputId": "f20ea263-e09b-43f0-d43f-17e5e14d7223"
      },
      "outputs": [
        {
          "output_type": "stream",
          "name": "stdout",
          "text": [
            "                  filename  cell_type      xmin      xmax      ymin      ymax  \\\n",
            "0     BloodImage_00000.jpg          3  0.406250  0.767188  0.368750  0.783333   \n",
            "1     BloodImage_00000.jpg          2  0.121875  0.287500  0.700000  0.906250   \n",
            "2     BloodImage_00000.jpg          2  0.098437  0.264062  0.493750  0.700000   \n",
            "3     BloodImage_00000.jpg          2  0.334375  0.500000  0.754167  0.960417   \n",
            "4     BloodImage_00000.jpg          2  0.646875  0.790625  0.733333  0.927083   \n",
            "...                    ...        ...       ...       ...       ...       ...   \n",
            "4883  BloodImage_00410.jpg          1  0.373437  0.454688  0.572917  0.668750   \n",
            "4884  BloodImage_00410.jpg          1  0.189062  0.295312  0.541667  0.666667   \n",
            "4885  BloodImage_00410.jpg          1  0.089063  0.162500  0.247917  0.347917   \n",
            "4886  BloodImage_00410.jpg          1  0.001563  0.045312  0.595833  0.681250   \n",
            "4887  BloodImage_00410.jpg          3  0.573438  0.954688  0.345833  0.820833   \n",
            "\n",
            "      imgs_idx  \n",
            "0            0  \n",
            "1            0  \n",
            "2            0  \n",
            "3            0  \n",
            "4            0  \n",
            "...        ...  \n",
            "4883       363  \n",
            "4884       363  \n",
            "4885       363  \n",
            "4886       363  \n",
            "4887       363  \n",
            "\n",
            "[4888 rows x 7 columns]\n"
          ]
        }
      ],
      "source": [
        "# Add column for the index of the image\n",
        "imgNames = pd.unique(df['filename'])\n",
        "le = preprocessing.LabelEncoder()\n",
        "le.fit(imgNames)\n",
        "df['imgs_idx'] = le.transform(df['filename'])\n",
        "print(df)"
      ]
    },
    {
      "cell_type": "code",
      "execution_count": null,
      "id": "3a646a81",
      "metadata": {
        "colab": {
          "base_uri": "https://localhost:8080/"
        },
        "id": "3a646a81",
        "outputId": "a2c9f354-a96f-4209-8b63-04bc003ed6e7"
      },
      "outputs": [
        {
          "output_type": "stream",
          "name": "stdout",
          "text": [
            "      cell_type      xmin      xmax      ymin      ymax  imgs_idx\n",
            "0             3  0.406250  0.767188  0.368750  0.783333         0\n",
            "1             2  0.121875  0.287500  0.700000  0.906250         0\n",
            "2             2  0.098437  0.264062  0.493750  0.700000         0\n",
            "3             2  0.334375  0.500000  0.754167  0.960417         0\n",
            "4             2  0.646875  0.790625  0.733333  0.927083         0\n",
            "...         ...       ...       ...       ...       ...       ...\n",
            "4883          1  0.373437  0.454688  0.572917  0.668750       363\n",
            "4884          1  0.189062  0.295312  0.541667  0.666667       363\n",
            "4885          1  0.089063  0.162500  0.247917  0.347917       363\n",
            "4886          1  0.001563  0.045312  0.595833  0.681250       363\n",
            "4887          3  0.573438  0.954688  0.345833  0.820833       363\n",
            "\n",
            "[4888 rows x 6 columns]\n"
          ]
        }
      ],
      "source": [
        "# Filename column no longer needed\n",
        "df = df.drop(columns=['filename'])\n",
        "print(df)"
      ]
    },
    {
      "cell_type": "markdown",
      "id": "d50e8198",
      "metadata": {
        "id": "d50e8198"
      },
      "source": [
        "#### Data Augmentation"
      ]
    },
    {
      "cell_type": "code",
      "source": [
        "# Renaming images in directory to assist with augmentation since some numbers are skipped \n",
        "os.chdir('/content/BCCD_Dataset/BCCD/JPEGImages/')\n",
        "print(os.getcwd())\n",
        "for idx, name in enumerate(imgNames):    \n",
        "\n",
        "  os.rename(name, str(idx).zfill(4)+'.jpg')"
      ],
      "metadata": {
        "colab": {
          "base_uri": "https://localhost:8080/",
          "height": 218
        },
        "id": "Iu191Sr2_2J8",
        "outputId": "41376e66-dec0-43f7-9b9c-363d984889c7"
      },
      "id": "Iu191Sr2_2J8",
      "execution_count": null,
      "outputs": [
        {
          "output_type": "stream",
          "name": "stdout",
          "text": [
            "/content/BCCD_Dataset/BCCD/JPEGImages\n"
          ]
        },
        {
          "output_type": "error",
          "ename": "FileNotFoundError",
          "evalue": "ignored",
          "traceback": [
            "\u001b[0;31m---------------------------------------------------------------------------\u001b[0m",
            "\u001b[0;31mFileNotFoundError\u001b[0m                         Traceback (most recent call last)",
            "\u001b[0;32m<ipython-input-10-71786ff8ba84>\u001b[0m in \u001b[0;36m<module>\u001b[0;34m\u001b[0m\n\u001b[1;32m      4\u001b[0m \u001b[0;32mfor\u001b[0m \u001b[0midx\u001b[0m\u001b[0;34m,\u001b[0m \u001b[0mname\u001b[0m \u001b[0;32min\u001b[0m \u001b[0menumerate\u001b[0m\u001b[0;34m(\u001b[0m\u001b[0mimgNames\u001b[0m\u001b[0;34m)\u001b[0m\u001b[0;34m:\u001b[0m\u001b[0;34m\u001b[0m\u001b[0;34m\u001b[0m\u001b[0m\n\u001b[1;32m      5\u001b[0m \u001b[0;34m\u001b[0m\u001b[0m\n\u001b[0;32m----> 6\u001b[0;31m   \u001b[0mos\u001b[0m\u001b[0;34m.\u001b[0m\u001b[0mrename\u001b[0m\u001b[0;34m(\u001b[0m\u001b[0mname\u001b[0m\u001b[0;34m,\u001b[0m \u001b[0mstr\u001b[0m\u001b[0;34m(\u001b[0m\u001b[0midx\u001b[0m\u001b[0;34m)\u001b[0m\u001b[0;34m.\u001b[0m\u001b[0mzfill\u001b[0m\u001b[0;34m(\u001b[0m\u001b[0;36m4\u001b[0m\u001b[0;34m)\u001b[0m\u001b[0;34m+\u001b[0m\u001b[0;34m'.jpg'\u001b[0m\u001b[0;34m)\u001b[0m\u001b[0;34m\u001b[0m\u001b[0;34m\u001b[0m\u001b[0m\n\u001b[0m",
            "\u001b[0;31mFileNotFoundError\u001b[0m: [Errno 2] No such file or directory: 'BloodImage_00000.jpg' -> '0000.jpg'"
          ]
        }
      ]
    },
    {
      "cell_type": "code",
      "execution_count": null,
      "id": "ad58162d",
      "metadata": {
        "colab": {
          "base_uri": "https://localhost:8080/"
        },
        "id": "ad58162d",
        "outputId": "d05db5a4-43ba-4720-b5f3-2adaf3dd983b"
      },
      "outputs": [
        {
          "output_type": "stream",
          "name": "stdout",
          "text": [
            "/content/BCCD_Dataset/BCCD/JPEGImages\n",
            "      cell_type      xmin      xmax      ymin      ymax  imgs_idx\n",
            "0             3  0.406250  0.767188  0.216667  0.631250       364\n",
            "1             2  0.121875  0.287500  0.093750  0.300000       364\n",
            "2             2  0.098437  0.264062  0.300000  0.506250       364\n",
            "3             2  0.334375  0.500000  0.039583  0.245833       364\n",
            "4             2  0.646875  0.790625  0.072917  0.266667       364\n",
            "...         ...       ...       ...       ...       ...       ...\n",
            "4883          1  0.373437  0.454688  0.331250  0.427083       727\n",
            "4884          1  0.189062  0.295312  0.333333  0.458333       727\n",
            "4885          1  0.089063  0.162500  0.652083  0.752083       727\n",
            "4886          1  0.001563  0.045312  0.318750  0.404167       727\n",
            "4887          3  0.573438  0.954688  0.179167  0.654167       727\n",
            "\n",
            "[4888 rows x 6 columns]\n"
          ]
        }
      ],
      "source": [
        "originalImageCount = len(imgNames)\n",
        "\n",
        "# Flip images upside down and add to directory\n",
        "\n",
        "\n",
        "# Load in images from directory and apply flip, then save as a new image with proper name\n",
        "print(os.getcwd())\n",
        "for i in range(originalImageCount):\n",
        "    cv2.imwrite((str(originalImageCount + i).zfill(4))+'.jpg', \n",
        "                np.flipud(cv2.imread(str(i).zfill(4)+'.jpg')))\n",
        "\n",
        "\n",
        "# Adjust bounding box to flip on dataframe since the flip will change\n",
        "# the bounding box x and y values\n",
        "dfFlipped = df.copy(deep=True)\n",
        "dfFlipped['ymin'] = 1 - df['ymax']\n",
        "dfFlipped['ymax'] = 1 - df['ymin']\n",
        "dfFlipped['imgs_idx'] = df['imgs_idx'] + originalImageCount\n",
        "print(dfFlipped)"
      ]
    },
    {
      "cell_type": "code",
      "execution_count": null,
      "id": "29f90d48",
      "metadata": {
        "colab": {
          "base_uri": "https://localhost:8080/"
        },
        "id": "29f90d48",
        "outputId": "0c86458b-8d03-417b-ae78-1b20f4378db3"
      },
      "outputs": [
        {
          "output_type": "stream",
          "name": "stdout",
          "text": [
            "/content/BCCD_Dataset/BCCD/JPEGImages\n",
            "      cell_type      xmin      xmax      ymin      ymax  imgs_idx\n",
            "0             3  0.232812  0.593750  0.368750  0.783333       728\n",
            "1             2  0.712500  0.878125  0.700000  0.906250       728\n",
            "2             2  0.735938  0.901563  0.493750  0.700000       728\n",
            "3             2  0.500000  0.665625  0.754167  0.960417       728\n",
            "4             2  0.209375  0.353125  0.733333  0.927083       728\n",
            "...         ...       ...       ...       ...       ...       ...\n",
            "4883          1  0.545312  0.626563  0.572917  0.668750      1091\n",
            "4884          1  0.704688  0.810937  0.541667  0.666667      1091\n",
            "4885          1  0.837500  0.910937  0.247917  0.347917      1091\n",
            "4886          1  0.954688  0.998437  0.595833  0.681250      1091\n",
            "4887          3  0.045312  0.426562  0.345833  0.820833      1091\n",
            "\n",
            "[4888 rows x 6 columns]\n"
          ]
        }
      ],
      "source": [
        "# Repeat above steps but with mirroring images along y-axis\n",
        "print(os.getcwd())\n",
        "for i in range(originalImageCount):\n",
        "    cv2.imwrite((str(originalImageCount*2 + i).zfill(4))+'.jpg', \n",
        "                np.fliplr(cv2.imread(str(i).zfill(4)+'.jpg')))\n",
        "\n",
        "\n",
        "# Adjust bounding box to flip on dataframe since the flip will change\n",
        "# the bounding box x and y values\n",
        "dfMirrored = df.copy(deep=True)\n",
        "dfMirrored['xmin'] = 1 - df['xmax']\n",
        "dfMirrored['xmax'] = 1 - df['xmin']\n",
        "dfMirrored['imgs_idx'] = dfFlipped['imgs_idx'] + originalImageCount\n",
        "print(dfMirrored)\n"
      ]
    },
    {
      "cell_type": "code",
      "execution_count": null,
      "id": "25914300",
      "metadata": {
        "id": "25914300"
      },
      "outputs": [],
      "source": [
        "import matplotlib.patches as patches\n",
        "\n",
        "# Function to show image with bounding boxes\n",
        "def plot_boxes(img, boxes, labels):\n",
        "    imgHeight, imgWidth = np.shape(img)[0], np.shape(img)[1]\n",
        "    \n",
        "    fig, a = plt.subplots(1,1)\n",
        "    fig.set_size_inches(5,5)\n",
        "    a.imshow(img)\n",
        "    \n",
        "    #Draw red box for red blood cell, white for white blood cell, and blue for platelet\n",
        "    for box in boxes:\n",
        "        if box[4] == 1:\n",
        "            width = (box[1]-box[0])*imgWidth\n",
        "            height = (box[3]-box[2])*imgHeight\n",
        "            rect = patches.Rectangle(\n",
        "                (box[0]*imgWidth, box[2]*imgHeight),\n",
        "                width, height,\n",
        "                linewidth = 2,\n",
        "                edgecolor = 'b',\n",
        "                facecolor = 'none'\n",
        "            )\n",
        "        if box[4] == 2:\n",
        "            width = (box[1]-box[0])*imgWidth\n",
        "            height = (box[3]-box[2])*imgHeight\n",
        "            rect = patches.Rectangle(\n",
        "                (box[0]*imgWidth, box[2]*imgHeight),\n",
        "                width, height,\n",
        "                linewidth = 2,\n",
        "                edgecolor = 'r',\n",
        "                facecolor = 'none'\n",
        "            )\n",
        "        if box[4] == 3:\n",
        "            width = (box[1]-box[0])*imgWidth\n",
        "            height = (box[3]-box[2])*imgHeight\n",
        "            rect = patches.Rectangle(\n",
        "                (box[0]*imgWidth, box[2]*imgHeight),\n",
        "                width, height,\n",
        "                linewidth = 2,\n",
        "                edgecolor = 'w',\n",
        "                facecolor = 'none'\n",
        "            )\n",
        "    # Draw the bounding box on top of the image\n",
        "        a.add_patch(rect)\n",
        "    plt.show()"
      ]
    },
    {
      "cell_type": "code",
      "execution_count": null,
      "id": "8fc16cdb",
      "metadata": {
        "scrolled": false,
        "colab": {
          "base_uri": "https://localhost:8080/"
        },
        "id": "8fc16cdb",
        "outputId": "320cd731-b168-4754-c40d-fd6bab0245cb"
      },
      "outputs": [
        {
          "output_type": "stream",
          "name": "stdout",
          "text": [
            "       cell_type      xmin      xmax      ymin      ymax  imgs_idx\n",
            "0              3  0.406250  0.767188  0.368750  0.783333         0\n",
            "1              2  0.121875  0.287500  0.700000  0.906250         0\n",
            "2              2  0.098437  0.264062  0.493750  0.700000         0\n",
            "3              2  0.334375  0.500000  0.754167  0.960417         0\n",
            "4              2  0.646875  0.790625  0.733333  0.927083         0\n",
            "...          ...       ...       ...       ...       ...       ...\n",
            "14659          1  0.545312  0.626563  0.572917  0.668750      1091\n",
            "14660          1  0.704688  0.810937  0.541667  0.666667      1091\n",
            "14661          1  0.837500  0.910937  0.247917  0.347917      1091\n",
            "14662          1  0.954688  0.998437  0.595833  0.681250      1091\n",
            "14663          3  0.045312  0.426562  0.345833  0.820833      1091\n",
            "\n",
            "[14664 rows x 6 columns]\n"
          ]
        }
      ],
      "source": [
        "df = pd.concat([df, dfFlipped, dfMirrored], ignore_index=True)\n",
        "print(df)\n"
      ]
    },
    {
      "cell_type": "code",
      "source": [],
      "metadata": {
        "colab": {
          "base_uri": "https://localhost:8080/"
        },
        "id": "GRcnqrz0oPfw",
        "outputId": "bd726e78-3ed9-42fd-9fcd-ec66c0219524"
      },
      "id": "GRcnqrz0oPfw",
      "execution_count": null,
      "outputs": [
        {
          "output_type": "stream",
          "name": "stdout",
          "text": [
            "Empty DataFrame\n",
            "Columns: [cell_type, xmin, xmax, ymin, ymax, imgs_idx]\n",
            "Index: []\n"
          ]
        }
      ]
    },
    {
      "cell_type": "markdown",
      "id": "37f318ba",
      "metadata": {
        "id": "37f318ba"
      },
      "source": [
        "Demonstrated the data augmentation by showing the regular image and the flipped and mirrored versions.\n",
        "The bounding box for the red blood cell is red, white for the white blood cell, and blue for platelets."
      ]
    },
    {
      "cell_type": "code",
      "execution_count": null,
      "id": "1696c090",
      "metadata": {
        "colab": {
          "base_uri": "https://localhost:8080/",
          "height": 235
        },
        "id": "1696c090",
        "outputId": "f42b2a62-33dc-4971-a9d4-6d312a64759d"
      },
      "outputs": [
        {
          "output_type": "error",
          "ename": "AttributeError",
          "evalue": "ignored",
          "traceback": [
            "\u001b[0;31m---------------------------------------------------------------------------\u001b[0m",
            "\u001b[0;31mAttributeError\u001b[0m                            Traceback (most recent call last)",
            "\u001b[0;32m<ipython-input-51-533571519a23>\u001b[0m in \u001b[0;36m<module>\u001b[0;34m\u001b[0m\n\u001b[1;32m      1\u001b[0m \u001b[0midx\u001b[0m \u001b[0;34m=\u001b[0m \u001b[0;36m15\u001b[0m\u001b[0;34m\u001b[0m\u001b[0;34m\u001b[0m\u001b[0m\n\u001b[1;32m      2\u001b[0m \u001b[0mboxes\u001b[0m \u001b[0;34m=\u001b[0m \u001b[0mdf\u001b[0m\u001b[0;34m.\u001b[0m\u001b[0mwhere\u001b[0m\u001b[0;34m(\u001b[0m\u001b[0mdf\u001b[0m\u001b[0;34m[\u001b[0m\u001b[0;34m'imgs_idx'\u001b[0m\u001b[0;34m]\u001b[0m\u001b[0;34m==\u001b[0m\u001b[0midx\u001b[0m\u001b[0;34m)\u001b[0m\u001b[0;34m[\u001b[0m\u001b[0;34m[\u001b[0m\u001b[0;34m'xmin'\u001b[0m\u001b[0;34m,\u001b[0m \u001b[0;34m'xmax'\u001b[0m\u001b[0;34m,\u001b[0m \u001b[0;34m'ymin'\u001b[0m\u001b[0;34m,\u001b[0m \u001b[0;34m'ymax'\u001b[0m\u001b[0;34m,\u001b[0m \u001b[0;34m'cell_type'\u001b[0m\u001b[0;34m]\u001b[0m\u001b[0;34m]\u001b[0m\u001b[0;34m.\u001b[0m\u001b[0mdropna\u001b[0m\u001b[0;34m(\u001b[0m\u001b[0;34m)\u001b[0m\u001b[0;34m.\u001b[0m\u001b[0mto_numpy\u001b[0m\u001b[0;34m(\u001b[0m\u001b[0;34m)\u001b[0m\u001b[0;34m\u001b[0m\u001b[0;34m\u001b[0m\u001b[0m\n\u001b[0;32m----> 3\u001b[0;31m \u001b[0mplot_boxes\u001b[0m\u001b[0;34m(\u001b[0m\u001b[0mcv2\u001b[0m\u001b[0;34m.\u001b[0m\u001b[0mcvtColor\u001b[0m\u001b[0;34m(\u001b[0m\u001b[0mcv2\u001b[0m\u001b[0;34m.\u001b[0m\u001b[0mimread\u001b[0m\u001b[0;34m(\u001b[0m\u001b[0;34m'0015.jpg'\u001b[0m\u001b[0;34m)\u001b[0m\u001b[0;34m.\u001b[0m\u001b[0mastype\u001b[0m\u001b[0;34m(\u001b[0m\u001b[0;34m'uint8'\u001b[0m\u001b[0;34m)\u001b[0m\u001b[0;34m,\u001b[0m \u001b[0mcv2\u001b[0m\u001b[0;34m.\u001b[0m\u001b[0mCOLOR_BGR2RGB\u001b[0m\u001b[0;34m)\u001b[0m\u001b[0;34m,\u001b[0m \u001b[0mboxes\u001b[0m\u001b[0;34m,\u001b[0m \u001b[0;34m)\u001b[0m\u001b[0;34m\u001b[0m\u001b[0;34m\u001b[0m\u001b[0m\n\u001b[0m\u001b[1;32m      4\u001b[0m \u001b[0;34m\u001b[0m\u001b[0m\n\u001b[1;32m      5\u001b[0m \u001b[0mboxes\u001b[0m \u001b[0;34m=\u001b[0m \u001b[0mdf\u001b[0m\u001b[0;34m.\u001b[0m\u001b[0mwhere\u001b[0m\u001b[0;34m(\u001b[0m\u001b[0mdf\u001b[0m\u001b[0;34m[\u001b[0m\u001b[0;34m'imgs_idx'\u001b[0m\u001b[0;34m]\u001b[0m\u001b[0;34m==\u001b[0m\u001b[0midx\u001b[0m\u001b[0;34m+\u001b[0m\u001b[0;36m364\u001b[0m\u001b[0;34m)\u001b[0m\u001b[0;34m[\u001b[0m\u001b[0;34m[\u001b[0m\u001b[0;34m'xmin'\u001b[0m\u001b[0;34m,\u001b[0m \u001b[0;34m'xmax'\u001b[0m\u001b[0;34m,\u001b[0m \u001b[0;34m'ymin'\u001b[0m\u001b[0;34m,\u001b[0m \u001b[0;34m'ymax'\u001b[0m\u001b[0;34m,\u001b[0m \u001b[0;34m'cell_type'\u001b[0m\u001b[0;34m]\u001b[0m\u001b[0;34m]\u001b[0m\u001b[0;34m.\u001b[0m\u001b[0mdropna\u001b[0m\u001b[0;34m(\u001b[0m\u001b[0;34m)\u001b[0m\u001b[0;34m.\u001b[0m\u001b[0mto_numpy\u001b[0m\u001b[0;34m(\u001b[0m\u001b[0;34m)\u001b[0m\u001b[0;34m\u001b[0m\u001b[0;34m\u001b[0m\u001b[0m\n",
            "\u001b[0;31mAttributeError\u001b[0m: 'NoneType' object has no attribute 'astype'"
          ]
        }
      ],
      "source": [
        "idx = 15\n",
        "boxes = df.where(df['imgs_idx']==idx)[['xmin', 'xmax', 'ymin', 'ymax', 'cell_type']].dropna().to_numpy()\n",
        "plot_boxes(cv2.cvtColor(cv2.imread('0015.jpg').astype('uint8'), cv2.COLOR_BGR2RGB), boxes, )\n",
        "\n",
        "boxes = df.where(df['imgs_idx']==idx+364)[['xmin', 'xmax', 'ymin', 'ymax', 'cell_type']].dropna().to_numpy()\n",
        "plot_boxes(cv2.cvtColor(cv2.imread('0379.jpg').astype('uint8'), cv2.COLOR_BGR2RGB), boxes)\n",
        "\n",
        "boxes = df.where(df['imgs_idx']==idx+728)[['xmin', 'xmax', 'ymin', 'ymax', 'cell_type']].dropna().to_numpy()\n",
        "plot_boxes(cv2.cvtColor(cv2.imread('0743.jpg').astype('uint8'), cv2.COLOR_BGR2RGB), boxes)"
      ]
    },
    {
      "cell_type": "markdown",
      "id": "be01f035",
      "metadata": {
        "id": "be01f035"
      },
      "source": [
        "### Dataset and Dataset loader class\n",
        "Pytorch requires a class to process the data to the correct format and a dataset loader class which feeds the model the data for training and testing\n"
      ]
    },
    {
      "cell_type": "code",
      "execution_count": null,
      "id": "1b1fdf0f",
      "metadata": {
        "id": "1b1fdf0f"
      },
      "outputs": [],
      "source": [
        "os.chdir('/content/')\n",
        "# we create a Dataset class which has a __getitem__ function and a __len__ function\n",
        "class BloodCellDataset(torch.utils.data.Dataset):\n",
        "\n",
        "  def __init__(self, width, height, classes, transforms=None):\n",
        "    self.height = height\n",
        "    self.width = width\n",
        "    \n",
        "    # sorting the images for consistency\n",
        "    # To get images, the extension of the filename is checked to be jpg\n",
        "    # classes: 0 index is reserved for background\n",
        "    self.classes = classes\n",
        "\n",
        "  def __getitem__(self, idx):\n",
        "    # reading the images and converting them to correct size and color\n",
        "    img = cv2.imread('/content/BCCD_Dataset/BCCD/JPEGImages/'+str(idx).zfill(4)+'.jpg')    \n",
        "    img = cv2.cvtColor(img.astype('uint8'), cv2.COLOR_BGR2RGB).astype(np.float32)\n",
        "    img = cv2.resize(img, (self.width, self.height), cv2.INTER_AREA)\n",
        "    \n",
        "    # normalize\n",
        "    img/=255.0\n",
        "\n",
        "    # Change array from channels last to channels first\n",
        "    img = np.moveaxis(img, -1, 0)\n",
        "    \n",
        "    \n",
        "    boxes = df.where(df['imgs_idx']==idx)[['xmin', 'ymin', 'xmax', 'ymax']].dropna().to_numpy()\n",
        "    labels = df.where(df['imgs_idx']==idx)['cell_type'].dropna().to_numpy()\n",
        "    \n",
        "    # cv2 image gives size as height x width\n",
        "    imageWidth = img.shape[1]\n",
        "    imageHeight = img.shape[0]\n",
        "    \n",
        "    \n",
        "    # convert boxes into a torch.Tensor\n",
        "    boxes = torch.as_tensor(boxes, dtype=torch.float32)\n",
        "    \n",
        "    # getting the areas of the boxes\n",
        "    area = (boxes[:, 1] - boxes[:, 0]) * (boxes[:, 3] - boxes[:, 2])\n",
        "\n",
        "    # suppose all instances are not crowd\n",
        "    iscrowd = torch.zeros((boxes.shape[0],), dtype=torch.int64)\n",
        "    \n",
        "    labels = torch.as_tensor(labels, dtype=torch.int64)\n",
        "\n",
        "    target = {}\n",
        "    target[\"boxes\"] = boxes\n",
        "    target[\"labels\"] = labels\n",
        "    target[\"area\"] = area\n",
        "    target[\"iscrowd\"] = iscrowd\n",
        "    image_id = torch.tensor([idx])\n",
        "    target[\"image_id\"] = image_id\n",
        "\n",
        "    return torch.tensor(img), target\n",
        "\n",
        "  def __len__(self):\n",
        "    return 1091"
      ]
    },
    {
      "cell_type": "code",
      "source": [
        "# check dataset\n",
        "\n",
        "dataset = BloodCellDataset(224, 224, class_names)\n",
        "dataset_test = BloodCellDataset(224, 224, class_names)\n",
        "print('Length of dataset:', len(dataset), '\\n')\n",
        "# getting the image and target for a test index.  Feel free to change the index.\n",
        "\n",
        "img, target = dataset[15]\n",
        "print('Image shape:', img.shape)\n",
        "print('Label example:', target)\n",
        "fig, a = plt.subplots(1,1)\n",
        "fig.set_size_inches(5,5)\n",
        "# Convert from torch tensor not numpy then move channels last\n",
        "img = np.moveaxis(img.cpu().detach().numpy(), 0, -1)\n",
        "a.imshow(img)\n"
      ],
      "metadata": {
        "colab": {
          "base_uri": "https://localhost:8080/",
          "height": 708
        },
        "id": "ws_1Ln-2qV9e",
        "outputId": "b3288dc9-9bfd-4630-d153-bc1bf46b04d2"
      },
      "id": "ws_1Ln-2qV9e",
      "execution_count": null,
      "outputs": [
        {
          "output_type": "stream",
          "name": "stdout",
          "text": [
            "Length of dataset: 1091 \n",
            "\n",
            "Image shape: torch.Size([3, 224, 224])\n",
            "Label example: {'boxes': tensor([[0.2266, 0.0083, 0.5641, 0.5000],\n",
            "        [0.5516, 0.2812, 0.6687, 0.4833],\n",
            "        [0.5531, 0.0250, 0.7000, 0.2667],\n",
            "        [0.6875, 0.1625, 0.8438, 0.3333],\n",
            "        [0.8391, 0.0979, 0.9969, 0.3000],\n",
            "        [0.6797, 0.0021, 0.8406, 0.1562],\n",
            "        [0.6422, 0.7479, 0.8156, 0.9563],\n",
            "        [0.4156, 0.8521, 0.5844, 1.0000],\n",
            "        [0.0016, 0.8250, 0.2094, 1.0000],\n",
            "        [0.0016, 0.5667, 0.1594, 0.7896],\n",
            "        [0.0969, 0.1292, 0.2578, 0.3521],\n",
            "        [0.3875, 0.4187, 0.5484, 0.6417],\n",
            "        [0.1422, 0.6250, 0.3187, 0.8146],\n",
            "        [0.8813, 0.2917, 1.0000, 0.5000],\n",
            "        [0.4547, 0.7771, 0.5266, 0.8542],\n",
            "        [0.5828, 0.4208, 0.7563, 0.6292]]), 'labels': tensor([3, 2, 2, 2, 2, 2, 2, 2, 2, 2, 2, 2, 2, 2, 1, 2]), 'area': tensor([0.0140, 0.0501, 0.2289, 0.2680, 0.5165, 0.4637, 0.0149, 0.1814, 0.6510,\n",
            "        0.3561, 0.0030, 0.0029, 0.2394, 0.2948, 0.1056, 0.0206]), 'iscrowd': tensor([0, 0, 0, 0, 0, 0, 0, 0, 0, 0, 0, 0, 0, 0, 0, 0]), 'image_id': tensor([15])}\n"
          ]
        },
        {
          "output_type": "execute_result",
          "data": {
            "text/plain": [
              "<matplotlib.image.AxesImage at 0x7fc46b593100>"
            ]
          },
          "metadata": {},
          "execution_count": 17
        },
        {
          "output_type": "display_data",
          "data": {
            "text/plain": [
              "<Figure size 360x360 with 1 Axes>"
            ],
            "image/png": "[encoded data removed]"
          },
          "metadata": {
            "needs_background": "light"
          }
        }
      ]
    },
    {
      "cell_type": "code",
      "execution_count": null,
      "id": "f1c76750",
      "metadata": {
        "id": "f1c76750"
      },
      "outputs": [],
      "source": [
        "# Train/test split\n",
        "test_split = 0.2\n",
        "indices = torch.randperm(len(dataset)).tolist()\n",
        "tsize = int(len(dataset)*test_split)\n",
        "dataset = torch.utils.data.Subset(dataset, indices[:-tsize])\n",
        "dataset_test = torch.utils.data.Subset(dataset_test, indices[-tsize:])\n"
      ]
    },
    {
      "cell_type": "code",
      "execution_count": null,
      "id": "cc3a0d0b",
      "metadata": {
        "id": "cc3a0d0b"
      },
      "outputs": [],
      "source": [
        "import utils\n",
        "import transforms as T\n",
        "# Define data_loader which will feed data into neural net\n",
        "data_loader = torch.utils.data.DataLoader(\n",
        "  dataset,\n",
        "  batch_size=16,\n",
        "  shuffle=True,\n",
        "  num_workers=2,\n",
        "  collate_fn=utils.collate_fn\n",
        ")\n",
        "\n",
        "data_loader_test = torch.utils.data.DataLoader(\n",
        "  dataset_test,\n",
        "  batch_size=16,\n",
        "  shuffle=False,\n",
        "  num_workers=2,\n",
        "  collate_fn=utils.collate_fn\n",
        ")"
      ]
    },
    {
      "cell_type": "markdown",
      "id": "53a23f83",
      "metadata": {
        "id": "53a23f83"
      },
      "source": [
        "#### Transfer Learning"
      ]
    },
    {
      "cell_type": "markdown",
      "id": "096c64c0",
      "metadata": {
        "id": "096c64c0"
      },
      "source": [
        "For this project I am using the Faster R-CNN ResNet 50 that is pretrained wuth the COCO dataset."
      ]
    },
    {
      "cell_type": "code",
      "execution_count": null,
      "id": "0f9a34ec",
      "metadata": {
        "scrolled": false,
        "id": "0f9a34ec"
      },
      "outputs": [],
      "source": [
        "def get_object_detection_model(num_classes):\n",
        "  # load a model pre-trained pre-trained on COCO\n",
        "  model = torchvision.models.detection.fasterrcnn_resnet50_fpn(pretrained=True)\n",
        "  # get number of input features for the classifier\n",
        "  in_features = model.roi_heads.box_predictor.cls_score.in_features\n",
        "  # replace the pre-trained head with a new one\n",
        "  model.roi_heads.box_predictor = FastRCNNPredictor(in_features, num_classes) \n",
        "  return model"
      ]
    },
    {
      "cell_type": "code",
      "execution_count": null,
      "id": "bbdf84bc",
      "metadata": {
        "scrolled": true,
        "id": "bbdf84bc",
        "colab": {
          "base_uri": "https://localhost:8080/"
        },
        "outputId": "6498a485-9966-4a37-9df5-0f001c201b02"
      },
      "outputs": [
        {
          "output_type": "stream",
          "name": "stderr",
          "text": [
            "/usr/local/lib/python3.8/dist-packages/torchvision/models/_utils.py:208: UserWarning: The parameter 'pretrained' is deprecated since 0.13 and will be removed in 0.15, please use 'weights' instead.\n",
            "  warnings.warn(\n",
            "/usr/local/lib/python3.8/dist-packages/torchvision/models/_utils.py:223: UserWarning: Arguments other than a weight enum or `None` for 'weights' are deprecated since 0.13 and will be removed in 0.15. The current behavior is equivalent to passing `weights=FasterRCNN_ResNet50_FPN_Weights.COCO_V1`. You can also use `weights=FasterRCNN_ResNet50_FPN_Weights.DEFAULT` to get the most up-to-date weights.\n",
            "  warnings.warn(msg)\n"
          ]
        }
      ],
      "source": [
        "device = torch.device('cuda') if torch.cuda.is_available() else torch.device('cpu')\n",
        "\n",
        "num_classes = len(class_names) # one class (class 0) is dedicated to the \"background\"\n",
        "\n",
        "# get the model using our helper function\n",
        "model = get_object_detection_model(num_classes)\n",
        "\n",
        "# move model to the right device\n",
        "model.to(device)\n",
        "\n",
        "# construct an optimizer\n",
        "params = [p for p in model.parameters() if p.requires_grad]\n",
        "optimizer = torch.optim.SGD(params, lr=0.01, momentum=0.9, weight_decay=0.0005)\n",
        "\n",
        "# and a learning rate scheduler which decreases the learning rate by\n",
        "# 10x every 3 epochs\n",
        "lr_scheduler = torch.optim.lr_scheduler.StepLR(\n",
        "  optimizer,\n",
        "  step_size=3,\n",
        "  gamma=0.1\n",
        ")"
      ]
    },
    {
      "cell_type": "code",
      "execution_count": null,
      "id": "3c8b5b5b",
      "metadata": {
        "scrolled": true,
        "colab": {
          "base_uri": "https://localhost:8080/",
          "height": 418
        },
        "id": "3c8b5b5b",
        "outputId": "5f951253-ac42-41af-fdfb-83640d17ed98"
      },
      "outputs": [
        {
          "output_type": "stream",
          "name": "stdout",
          "text": [
            "Epoch: [0]  [ 0/55]  eta: 2:52:39  lr: 0.000195  loss: 6.3119 (6.3119)  loss_classifier: 1.6025 (1.6025)  loss_box_reg: 0.0432 (0.0432)  loss_objectness: 3.4161 (3.4161)  loss_rpn_box_reg: 1.2500 (1.2500)  time: 188.3539  data: 0.5665  max mem: 0\n"
          ]
        },
        {
          "output_type": "error",
          "ename": "KeyboardInterrupt",
          "evalue": "ignored",
          "traceback": [
            "\u001b[0;31m---------------------------------------------------------------------------\u001b[0m",
            "\u001b[0;31mKeyboardInterrupt\u001b[0m                         Traceback (most recent call last)",
            "\u001b[0;32m<ipython-input-22-278beccf8348>\u001b[0m in \u001b[0;36m<module>\u001b[0;34m\u001b[0m\n\u001b[1;32m      7\u001b[0m \u001b[0;32mfor\u001b[0m \u001b[0mepoch\u001b[0m \u001b[0;32min\u001b[0m \u001b[0mrange\u001b[0m\u001b[0;34m(\u001b[0m\u001b[0mnum_epochs\u001b[0m\u001b[0;34m)\u001b[0m\u001b[0;34m:\u001b[0m\u001b[0;34m\u001b[0m\u001b[0;34m\u001b[0m\u001b[0m\n\u001b[1;32m      8\u001b[0m     \u001b[0;31m# training for one epoch\u001b[0m\u001b[0;34m\u001b[0m\u001b[0;34m\u001b[0m\u001b[0;34m\u001b[0m\u001b[0m\n\u001b[0;32m----> 9\u001b[0;31m     \u001b[0mtrain_one_epoch\u001b[0m\u001b[0;34m(\u001b[0m\u001b[0mmodel\u001b[0m\u001b[0;34m,\u001b[0m \u001b[0moptimizer\u001b[0m\u001b[0;34m,\u001b[0m \u001b[0mdata_loader\u001b[0m\u001b[0;34m,\u001b[0m \u001b[0mdevice\u001b[0m\u001b[0;34m,\u001b[0m \u001b[0mepoch\u001b[0m\u001b[0;34m,\u001b[0m \u001b[0mprint_freq\u001b[0m\u001b[0;34m=\u001b[0m\u001b[0;36m10\u001b[0m\u001b[0;34m)\u001b[0m\u001b[0;34m\u001b[0m\u001b[0;34m\u001b[0m\u001b[0m\n\u001b[0m\u001b[1;32m     10\u001b[0m     \u001b[0;31m# update the learning rate\u001b[0m\u001b[0;34m\u001b[0m\u001b[0;34m\u001b[0m\u001b[0;34m\u001b[0m\u001b[0m\n\u001b[1;32m     11\u001b[0m     \u001b[0mlr_scheduler\u001b[0m\u001b[0;34m.\u001b[0m\u001b[0mstep\u001b[0m\u001b[0;34m(\u001b[0m\u001b[0;34m)\u001b[0m\u001b[0;34m\u001b[0m\u001b[0;34m\u001b[0m\u001b[0m\n",
            "\u001b[0;32m/content/engine.py\u001b[0m in \u001b[0;36mtrain_one_epoch\u001b[0;34m(model, optimizer, data_loader, device, epoch, print_freq)\u001b[0m\n\u001b[1;32m     44\u001b[0m \u001b[0;34m\u001b[0m\u001b[0m\n\u001b[1;32m     45\u001b[0m         \u001b[0moptimizer\u001b[0m\u001b[0;34m.\u001b[0m\u001b[0mzero_grad\u001b[0m\u001b[0;34m(\u001b[0m\u001b[0;34m)\u001b[0m\u001b[0;34m\u001b[0m\u001b[0;34m\u001b[0m\u001b[0m\n\u001b[0;32m---> 46\u001b[0;31m         \u001b[0mlosses\u001b[0m\u001b[0;34m.\u001b[0m\u001b[0mbackward\u001b[0m\u001b[0;34m(\u001b[0m\u001b[0;34m)\u001b[0m\u001b[0;34m\u001b[0m\u001b[0;34m\u001b[0m\u001b[0m\n\u001b[0m\u001b[1;32m     47\u001b[0m         \u001b[0moptimizer\u001b[0m\u001b[0;34m.\u001b[0m\u001b[0mstep\u001b[0m\u001b[0;34m(\u001b[0m\u001b[0;34m)\u001b[0m\u001b[0;34m\u001b[0m\u001b[0;34m\u001b[0m\u001b[0m\n\u001b[1;32m     48\u001b[0m \u001b[0;34m\u001b[0m\u001b[0m\n",
            "\u001b[0;32m/usr/local/lib/python3.8/dist-packages/torch/_tensor.py\u001b[0m in \u001b[0;36mbackward\u001b[0;34m(self, gradient, retain_graph, create_graph, inputs)\u001b[0m\n\u001b[1;32m    394\u001b[0m                 \u001b[0mcreate_graph\u001b[0m\u001b[0;34m=\u001b[0m\u001b[0mcreate_graph\u001b[0m\u001b[0;34m,\u001b[0m\u001b[0;34m\u001b[0m\u001b[0;34m\u001b[0m\u001b[0m\n\u001b[1;32m    395\u001b[0m                 inputs=inputs)\n\u001b[0;32m--> 396\u001b[0;31m         \u001b[0mtorch\u001b[0m\u001b[0;34m.\u001b[0m\u001b[0mautograd\u001b[0m\u001b[0;34m.\u001b[0m\u001b[0mbackward\u001b[0m\u001b[0;34m(\u001b[0m\u001b[0mself\u001b[0m\u001b[0;34m,\u001b[0m \u001b[0mgradient\u001b[0m\u001b[0;34m,\u001b[0m \u001b[0mretain_graph\u001b[0m\u001b[0;34m,\u001b[0m \u001b[0mcreate_graph\u001b[0m\u001b[0;34m,\u001b[0m \u001b[0minputs\u001b[0m\u001b[0;34m=\u001b[0m\u001b[0minputs\u001b[0m\u001b[0;34m)\u001b[0m\u001b[0;34m\u001b[0m\u001b[0;34m\u001b[0m\u001b[0m\n\u001b[0m\u001b[1;32m    397\u001b[0m \u001b[0;34m\u001b[0m\u001b[0m\n\u001b[1;32m    398\u001b[0m     \u001b[0;32mdef\u001b[0m \u001b[0mregister_hook\u001b[0m\u001b[0;34m(\u001b[0m\u001b[0mself\u001b[0m\u001b[0;34m,\u001b[0m \u001b[0mhook\u001b[0m\u001b[0;34m)\u001b[0m\u001b[0;34m:\u001b[0m\u001b[0;34m\u001b[0m\u001b[0;34m\u001b[0m\u001b[0m\n",
            "\u001b[0;32m/usr/local/lib/python3.8/dist-packages/torch/autograd/__init__.py\u001b[0m in \u001b[0;36mbackward\u001b[0;34m(tensors, grad_tensors, retain_graph, create_graph, grad_variables, inputs)\u001b[0m\n\u001b[1;32m    171\u001b[0m     \u001b[0;31m# some Python versions print out the first line of a multi-line function\u001b[0m\u001b[0;34m\u001b[0m\u001b[0;34m\u001b[0m\u001b[0;34m\u001b[0m\u001b[0m\n\u001b[1;32m    172\u001b[0m     \u001b[0;31m# calls in the traceback and some print out the last line\u001b[0m\u001b[0;34m\u001b[0m\u001b[0;34m\u001b[0m\u001b[0;34m\u001b[0m\u001b[0m\n\u001b[0;32m--> 173\u001b[0;31m     Variable._execution_engine.run_backward(  # Calls into the C++ engine to run the backward pass\n\u001b[0m\u001b[1;32m    174\u001b[0m         \u001b[0mtensors\u001b[0m\u001b[0;34m,\u001b[0m \u001b[0mgrad_tensors_\u001b[0m\u001b[0;34m,\u001b[0m \u001b[0mretain_graph\u001b[0m\u001b[0;34m,\u001b[0m \u001b[0mcreate_graph\u001b[0m\u001b[0;34m,\u001b[0m \u001b[0minputs\u001b[0m\u001b[0;34m,\u001b[0m\u001b[0;34m\u001b[0m\u001b[0;34m\u001b[0m\u001b[0m\n\u001b[1;32m    175\u001b[0m         allow_unreachable=True, accumulate_grad=True)  # Calls into the C++ engine to run the backward pass\n",
            "\u001b[0;31mKeyboardInterrupt\u001b[0m: "
          ]
        }
      ],
      "source": [
        "# Helper functions for training\n",
        "from engine import train_one_epoch, evaluate\n",
        "\n",
        "\n",
        "num_epochs = 5\n",
        "\n",
        "for epoch in range(num_epochs):\n",
        "    # training for one epoch\n",
        "    train_one_epoch(model, optimizer, data_loader, device, epoch, print_freq=10)\n",
        "    # update the learning rate\n",
        "    lr_scheduler.step()\n",
        "    # evaluate on the test dataset\n",
        "evaluate(model, data_loader_test, device=device)"
      ]
    },
    {
      "cell_type": "code",
      "execution_count": null,
      "id": "12162fe8",
      "metadata": {
        "id": "12162fe8"
      },
      "outputs": [],
      "source": []
    }
  ],
  "metadata": {
    "kernelspec": {
      "display_name": "Python 3",
      "language": "python",
      "name": "python3"
    },
    "language_info": {
      "codemirror_mode": {
        "name": "ipython",
        "version": 3
      },
      "file_extension": ".py",
      "mimetype": "text/x-python",
      "name": "python",
      "nbconvert_exporter": "python",
      "pygments_lexer": "ipython3",
      "version": "3.6.13"
    },
    "colab": {
      "provenance": []
    },
    "accelerator": "TPU",
    "gpuClass": "standard"
  },
  "nbformat": 4,
  "nbformat_minor": 5
}